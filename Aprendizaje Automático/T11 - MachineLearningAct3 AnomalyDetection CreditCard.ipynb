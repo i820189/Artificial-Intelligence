{
  "nbformat": 4,
  "nbformat_minor": 0,
  "metadata": {
    "colab": {
      "name": "MachineLearningAct3.ipynb",
      "provenance": [],
      "collapsed_sections": []
    },
    "kernelspec": {
      "name": "python3",
      "display_name": "Python 3"
    },
    "language_info": {
      "name": "python"
    }
  },
  "cells": [
    {
      "cell_type": "markdown",
      "metadata": {
        "id": "9YKC6VE6pXcz"
      },
      "source": [
        "# Actividad 3\n",
        "## Aprendizaje Automatico\n",
        "### Fabian Martinez Solano\n",
        "### Jairo Cuartas Molina\n",
        "### Javier Diaz Arca\n",
        "\n"
      ]
    },
    {
      "cell_type": "markdown",
      "metadata": {
        "id": "ZRLGIAhvNRQR"
      },
      "source": [
        "#Introducción\n",
        "\n",
        "En el presente trabajo se busca analizar factores relacionados con las transacciones realizadas por medio de tarjeta de crédito con el objetibo de identificar operaciones anómalas para identificar cuando podría ser un fraude.\n",
        "\n",
        "#Dataset\n",
        "Los datos para el presente trabajo se pueden obtener de los links\n",
        "\n",
        "https://www.kaggle.com/shubhamjoshi2130of/abstract-data-set-for-credit-card-fraud-detection\n",
        "\n",
        "https://raw.githubusercontent.com/fabianm95/UNIR/main/MachineLearning/creditcardcsvpresent.csv\n"
      ]
    },
    {
      "cell_type": "markdown",
      "metadata": {
        "id": "2Tt9dcO5Pzug"
      },
      "source": [
        "\n",
        "# Definir el Problema a Resolver\n",
        "\n",
        "El objetivo del presente trabajo es desarrollar un modelo de busqueda de datos anormales por medio de algoritmos de machine learning en lo correspondiente a transacciones con tarjeta de crédito."
      ]
    },
    {
      "cell_type": "markdown",
      "metadata": {
        "id": "d3DJK_lsQ47H"
      },
      "source": [
        "## Datos de Entrada\n",
        "\n",
        "Se tiene un total de 12 variables, de las cuales la primera es el numero de ID del comerciante, y las siguientes corresponden a características relacionadas con la transacción. Finalmente la ultima columna corresponde a si la operación fue o no fraudulenta. \n",
        "\n",
        "|| Variable | Tipo |\n",
        "| - | :- | - |\n",
        "|0| Merchant_id | Numérico\n",
        "|1| Transaction date | Numérico\n",
        "|2| Average Amount/transaction/day | Nominal\n",
        "|3| Transaction_amount | Numérico\n",
        "|4| Is declined |  Numérico\n",
        "|5| Total Number of declines/day | Nominal\n",
        "|6| isForeignTransaction | Nominal\n",
        "|7| isHighRiskCountry | Nominal\n",
        "|8| Daily_chargeback_avg_amt | Nominal\n",
        "|9| 6_month_avg_chbk_amt | Nominal\n",
        "|10| 6-month_chbk_freq | Nominal\n",
        "|11| isFradulent | Nominal"
      ]
    },
    {
      "cell_type": "markdown",
      "metadata": {
        "id": "U2gBBJB-TUsj"
      },
      "source": [
        "# Importar Librerias"
      ]
    },
    {
      "cell_type": "code",
      "metadata": {
        "id": "wu7fpUTbpTjA",
        "colab": {
          "base_uri": "https://localhost:8080/"
        },
        "outputId": "87cccf12-6ac7-4a55-88b6-685edf6c43e3"
      },
      "source": [
        "import numpy as np\n",
        "import pandas as pd\n",
        "import matplotlib.pyplot as plt\n",
        "from numpy.random import randn\n",
        "import seaborn as sns\n",
        "import matplotlib.pyplot as plt\n",
        "import plotly.express as px\n",
        "import plotly.figure_factory as ff\n",
        "from sklearn.preprocessing import MinMaxScaler\n",
        "plt.style.use('ggplot')\n",
        "\n",
        "#Algoritmos\n",
        "from sklearn.cluster import KMeans\n",
        "from sklearn.covariance import EllipticEnvelope\n",
        "from sklearn.ensemble import IsolationForest\n",
        "from sklearn.neighbors import LocalOutlierFactor\n",
        "from sklearn.model_selection import GridSearchCV\n",
        "from sklearn.metrics import silhouette_score\n",
        "from yellowbrick.cluster import SilhouetteVisualizer\n",
        "from sklearn.metrics import classification_report\n",
        "from sklearn.metrics import confusion_matrix"
      ],
      "execution_count": 1,
      "outputs": [
        {
          "output_type": "stream",
          "text": [
            "/usr/local/lib/python3.7/dist-packages/sklearn/utils/deprecation.py:144: FutureWarning:\n",
            "\n",
            "The sklearn.metrics.classification module is  deprecated in version 0.22 and will be removed in version 0.24. The corresponding classes / functions should instead be imported from sklearn.metrics. Anything that cannot be imported from sklearn.metrics is now part of the private API.\n",
            "\n"
          ],
          "name": "stderr"
        }
      ]
    },
    {
      "cell_type": "markdown",
      "metadata": {
        "id": "ZOft7t_rTbbK"
      },
      "source": [
        "# Cargar Datasets\n",
        "\n",
        "El dataset se encuentra localizado en Github."
      ]
    },
    {
      "cell_type": "code",
      "metadata": {
        "id": "N5CUUhoKpXPM"
      },
      "source": [
        "creditcard = pd.read_csv('https://raw.githubusercontent.com/fabianm95/UNIR/main/MachineLearning/creditcardcsvpresent.csv')"
      ],
      "execution_count": 2,
      "outputs": []
    },
    {
      "cell_type": "markdown",
      "metadata": {
        "id": "IE38sOuRUmWi"
      },
      "source": [
        "# Descripcion  y Limpieza de los datos"
      ]
    },
    {
      "cell_type": "code",
      "metadata": {
        "colab": {
          "base_uri": "https://localhost:8080/"
        },
        "id": "Yy03CuwTUtUT",
        "outputId": "b6d11ab5-99d5-4f79-9e13-d56b755823bd"
      },
      "source": [
        "creditcard.shape"
      ],
      "execution_count": 3,
      "outputs": [
        {
          "output_type": "execute_result",
          "data": {
            "text/plain": [
              "(3075, 12)"
            ]
          },
          "metadata": {
            "tags": []
          },
          "execution_count": 3
        }
      ]
    },
    {
      "cell_type": "code",
      "metadata": {
        "colab": {
          "base_uri": "https://localhost:8080/",
          "height": 258
        },
        "id": "Gf2an3CETnO_",
        "outputId": "39737e7e-abb3-493d-d2dd-442818b6d7f4"
      },
      "source": [
        "creditcard.head(5)"
      ],
      "execution_count": 4,
      "outputs": [
        {
          "output_type": "execute_result",
          "data": {
            "text/html": [
              "<div>\n",
              "<style scoped>\n",
              "    .dataframe tbody tr th:only-of-type {\n",
              "        vertical-align: middle;\n",
              "    }\n",
              "\n",
              "    .dataframe tbody tr th {\n",
              "        vertical-align: top;\n",
              "    }\n",
              "\n",
              "    .dataframe thead th {\n",
              "        text-align: right;\n",
              "    }\n",
              "</style>\n",
              "<table border=\"1\" class=\"dataframe\">\n",
              "  <thead>\n",
              "    <tr style=\"text-align: right;\">\n",
              "      <th></th>\n",
              "      <th>Merchant_id</th>\n",
              "      <th>Transaction date</th>\n",
              "      <th>Average Amount/transaction/day</th>\n",
              "      <th>Transaction_amount</th>\n",
              "      <th>Is declined</th>\n",
              "      <th>Total Number of declines/day</th>\n",
              "      <th>isForeignTransaction</th>\n",
              "      <th>isHighRiskCountry</th>\n",
              "      <th>Daily_chargeback_avg_amt</th>\n",
              "      <th>6_month_avg_chbk_amt</th>\n",
              "      <th>6-month_chbk_freq</th>\n",
              "      <th>isFradulent</th>\n",
              "    </tr>\n",
              "  </thead>\n",
              "  <tbody>\n",
              "    <tr>\n",
              "      <th>0</th>\n",
              "      <td>3160040998</td>\n",
              "      <td>NaN</td>\n",
              "      <td>100.0</td>\n",
              "      <td>3000.0</td>\n",
              "      <td>N</td>\n",
              "      <td>5</td>\n",
              "      <td>Y</td>\n",
              "      <td>Y</td>\n",
              "      <td>0</td>\n",
              "      <td>0.0</td>\n",
              "      <td>0</td>\n",
              "      <td>Y</td>\n",
              "    </tr>\n",
              "    <tr>\n",
              "      <th>1</th>\n",
              "      <td>3160040998</td>\n",
              "      <td>NaN</td>\n",
              "      <td>100.0</td>\n",
              "      <td>4300.0</td>\n",
              "      <td>N</td>\n",
              "      <td>5</td>\n",
              "      <td>Y</td>\n",
              "      <td>Y</td>\n",
              "      <td>0</td>\n",
              "      <td>0.0</td>\n",
              "      <td>0</td>\n",
              "      <td>Y</td>\n",
              "    </tr>\n",
              "    <tr>\n",
              "      <th>2</th>\n",
              "      <td>3160041896</td>\n",
              "      <td>NaN</td>\n",
              "      <td>185.5</td>\n",
              "      <td>4823.0</td>\n",
              "      <td>Y</td>\n",
              "      <td>5</td>\n",
              "      <td>N</td>\n",
              "      <td>N</td>\n",
              "      <td>0</td>\n",
              "      <td>0.0</td>\n",
              "      <td>0</td>\n",
              "      <td>Y</td>\n",
              "    </tr>\n",
              "    <tr>\n",
              "      <th>3</th>\n",
              "      <td>3160141996</td>\n",
              "      <td>NaN</td>\n",
              "      <td>185.5</td>\n",
              "      <td>5008.5</td>\n",
              "      <td>Y</td>\n",
              "      <td>8</td>\n",
              "      <td>N</td>\n",
              "      <td>N</td>\n",
              "      <td>0</td>\n",
              "      <td>0.0</td>\n",
              "      <td>0</td>\n",
              "      <td>Y</td>\n",
              "    </tr>\n",
              "    <tr>\n",
              "      <th>4</th>\n",
              "      <td>3160241992</td>\n",
              "      <td>NaN</td>\n",
              "      <td>500.0</td>\n",
              "      <td>26000.0</td>\n",
              "      <td>N</td>\n",
              "      <td>0</td>\n",
              "      <td>Y</td>\n",
              "      <td>Y</td>\n",
              "      <td>800</td>\n",
              "      <td>677.2</td>\n",
              "      <td>6</td>\n",
              "      <td>Y</td>\n",
              "    </tr>\n",
              "  </tbody>\n",
              "</table>\n",
              "</div>"
            ],
            "text/plain": [
              "   Merchant_id  Transaction date  ...  6-month_chbk_freq  isFradulent\n",
              "0   3160040998               NaN  ...                  0            Y\n",
              "1   3160040998               NaN  ...                  0            Y\n",
              "2   3160041896               NaN  ...                  0            Y\n",
              "3   3160141996               NaN  ...                  0            Y\n",
              "4   3160241992               NaN  ...                  6            Y\n",
              "\n",
              "[5 rows x 12 columns]"
            ]
          },
          "metadata": {
            "tags": []
          },
          "execution_count": 4
        }
      ]
    },
    {
      "cell_type": "markdown",
      "metadata": {
        "id": "Q6kd89NkUxaU"
      },
      "source": [
        "Existe un total de 3075 entradas o registros de las transacciones realizadas con tarjetas de creditos, cada una con sus repectivas características descriptivas."
      ]
    },
    {
      "cell_type": "markdown",
      "metadata": {
        "id": "FMtuFp_nU__9"
      },
      "source": [
        "## Identificacion de Variables"
      ]
    },
    {
      "cell_type": "code",
      "metadata": {
        "colab": {
          "base_uri": "https://localhost:8080/"
        },
        "id": "1djXuY0sU-_q",
        "outputId": "5e7dec32-3fee-4a5f-b47d-f71656e18001"
      },
      "source": [
        "creditcard.info()"
      ],
      "execution_count": 5,
      "outputs": [
        {
          "output_type": "stream",
          "text": [
            "<class 'pandas.core.frame.DataFrame'>\n",
            "RangeIndex: 3075 entries, 0 to 3074\n",
            "Data columns (total 12 columns):\n",
            " #   Column                          Non-Null Count  Dtype  \n",
            "---  ------                          --------------  -----  \n",
            " 0   Merchant_id                     3075 non-null   int64  \n",
            " 1   Transaction date                0 non-null      float64\n",
            " 2   Average Amount/transaction/day  3075 non-null   float64\n",
            " 3   Transaction_amount              3075 non-null   float64\n",
            " 4   Is declined                     3075 non-null   object \n",
            " 5   Total Number of declines/day    3075 non-null   int64  \n",
            " 6   isForeignTransaction            3075 non-null   object \n",
            " 7   isHighRiskCountry               3075 non-null   object \n",
            " 8   Daily_chargeback_avg_amt        3075 non-null   int64  \n",
            " 9   6_month_avg_chbk_amt            3075 non-null   float64\n",
            " 10  6-month_chbk_freq               3075 non-null   int64  \n",
            " 11  isFradulent                     3075 non-null   object \n",
            "dtypes: float64(4), int64(4), object(4)\n",
            "memory usage: 288.4+ KB\n"
          ],
          "name": "stdout"
        }
      ]
    },
    {
      "cell_type": "code",
      "metadata": {
        "colab": {
          "base_uri": "https://localhost:8080/"
        },
        "id": "7xBtt7Obfk2U",
        "outputId": "36b6c4db-ce5c-49b0-cc39-d545878a61b5"
      },
      "source": [
        "creditcard.isFradulent.value_counts()"
      ],
      "execution_count": 6,
      "outputs": [
        {
          "output_type": "execute_result",
          "data": {
            "text/plain": [
              "N    2627\n",
              "Y     448\n",
              "Name: isFradulent, dtype: int64"
            ]
          },
          "metadata": {
            "tags": []
          },
          "execution_count": 6
        }
      ]
    },
    {
      "cell_type": "markdown",
      "metadata": {
        "id": "U1Rd_qBQZbAL"
      },
      "source": [
        "En el dataset se presentan 12 variables, siendo la primera de ellas el numero de identificación del cliente, y de las restanets 4 son de tipo categórico y 7 de tipo numérico.\n",
        "De un total de 3075 registros, 2627 de ellos (85% aproximadamente) corresponden a movimientos verdaderos mientras que 448 (15% restante aprox.) corresponden a transacciones fraudulentas."
      ]
    },
    {
      "cell_type": "markdown",
      "metadata": {
        "id": "N6rUL_T9adjn"
      },
      "source": [
        "## Remover Datos Duplicados\n",
        "\n",
        "Se revisa que en los registros no existan registros iguales (con la misma información en todas las variables).\n",
        "\n",
        "Como no se encuentran duplicados, se procede con el tratamiento de datos sin eliminar registros."
      ]
    },
    {
      "cell_type": "code",
      "metadata": {
        "id": "3aER7GPCUsRj",
        "colab": {
          "base_uri": "https://localhost:8080/"
        },
        "outputId": "1eca6cd5-7735-4862-c2c6-932d97e6addb"
      },
      "source": [
        "duplicados = creditcard.duplicated()\n",
        "duplicados.value_counts()"
      ],
      "execution_count": 7,
      "outputs": [
        {
          "output_type": "execute_result",
          "data": {
            "text/plain": [
              "False    3075\n",
              "dtype: int64"
            ]
          },
          "metadata": {
            "tags": []
          },
          "execution_count": 7
        }
      ]
    },
    {
      "cell_type": "markdown",
      "metadata": {
        "id": "Oc9rStb8bJFl"
      },
      "source": [
        "## Eliminar columnas de datos Innecesarios\n",
        "\n",
        "Debido a que la en la base de datos la variable correspondiente a la fecha de transacción se encuentra vacía en todos los registros, se elimina."
      ]
    },
    {
      "cell_type": "code",
      "metadata": {
        "id": "N9sb0nICUpTO"
      },
      "source": [
        "creditcard.drop('Transaction date',axis=1, inplace=True)"
      ],
      "execution_count": 8,
      "outputs": []
    },
    {
      "cell_type": "code",
      "metadata": {
        "id": "1KnBvkAObThL",
        "colab": {
          "base_uri": "https://localhost:8080/",
          "height": 165
        },
        "outputId": "750af9a1-cbdc-4799-a481-3a55317426c0"
      },
      "source": [
        "creditcard.head(2)"
      ],
      "execution_count": 9,
      "outputs": [
        {
          "output_type": "execute_result",
          "data": {
            "text/html": [
              "<div>\n",
              "<style scoped>\n",
              "    .dataframe tbody tr th:only-of-type {\n",
              "        vertical-align: middle;\n",
              "    }\n",
              "\n",
              "    .dataframe tbody tr th {\n",
              "        vertical-align: top;\n",
              "    }\n",
              "\n",
              "    .dataframe thead th {\n",
              "        text-align: right;\n",
              "    }\n",
              "</style>\n",
              "<table border=\"1\" class=\"dataframe\">\n",
              "  <thead>\n",
              "    <tr style=\"text-align: right;\">\n",
              "      <th></th>\n",
              "      <th>Merchant_id</th>\n",
              "      <th>Average Amount/transaction/day</th>\n",
              "      <th>Transaction_amount</th>\n",
              "      <th>Is declined</th>\n",
              "      <th>Total Number of declines/day</th>\n",
              "      <th>isForeignTransaction</th>\n",
              "      <th>isHighRiskCountry</th>\n",
              "      <th>Daily_chargeback_avg_amt</th>\n",
              "      <th>6_month_avg_chbk_amt</th>\n",
              "      <th>6-month_chbk_freq</th>\n",
              "      <th>isFradulent</th>\n",
              "    </tr>\n",
              "  </thead>\n",
              "  <tbody>\n",
              "    <tr>\n",
              "      <th>0</th>\n",
              "      <td>3160040998</td>\n",
              "      <td>100.0</td>\n",
              "      <td>3000.0</td>\n",
              "      <td>N</td>\n",
              "      <td>5</td>\n",
              "      <td>Y</td>\n",
              "      <td>Y</td>\n",
              "      <td>0</td>\n",
              "      <td>0.0</td>\n",
              "      <td>0</td>\n",
              "      <td>Y</td>\n",
              "    </tr>\n",
              "    <tr>\n",
              "      <th>1</th>\n",
              "      <td>3160040998</td>\n",
              "      <td>100.0</td>\n",
              "      <td>4300.0</td>\n",
              "      <td>N</td>\n",
              "      <td>5</td>\n",
              "      <td>Y</td>\n",
              "      <td>Y</td>\n",
              "      <td>0</td>\n",
              "      <td>0.0</td>\n",
              "      <td>0</td>\n",
              "      <td>Y</td>\n",
              "    </tr>\n",
              "  </tbody>\n",
              "</table>\n",
              "</div>"
            ],
            "text/plain": [
              "   Merchant_id  Average Amount/transaction/day  ...  6-month_chbk_freq isFradulent\n",
              "0   3160040998                           100.0  ...                  0           Y\n",
              "1   3160040998                           100.0  ...                  0           Y\n",
              "\n",
              "[2 rows x 11 columns]"
            ]
          },
          "metadata": {
            "tags": []
          },
          "execution_count": 9
        }
      ]
    },
    {
      "cell_type": "markdown",
      "metadata": {
        "id": "GCpHgSiGc-28"
      },
      "source": [
        "Se evalua la cantidad de datos faltantes en cada una de las variables (en %)"
      ]
    },
    {
      "cell_type": "code",
      "metadata": {
        "id": "PKXZrSA6b1VG",
        "colab": {
          "base_uri": "https://localhost:8080/"
        },
        "outputId": "86932fa0-9988-4278-f483-4265ec33e09a"
      },
      "source": [
        "missing = creditcard.isnull().sum()\n",
        "missingporc = missing[missing>=0]*100/len(creditcard)\n",
        "missingporc"
      ],
      "execution_count": 10,
      "outputs": [
        {
          "output_type": "execute_result",
          "data": {
            "text/plain": [
              "Merchant_id                       0.0\n",
              "Average Amount/transaction/day    0.0\n",
              "Transaction_amount                0.0\n",
              "Is declined                       0.0\n",
              "Total Number of declines/day      0.0\n",
              "isForeignTransaction              0.0\n",
              "isHighRiskCountry                 0.0\n",
              "Daily_chargeback_avg_amt          0.0\n",
              "6_month_avg_chbk_amt              0.0\n",
              "6-month_chbk_freq                 0.0\n",
              "isFradulent                       0.0\n",
              "dtype: float64"
            ]
          },
          "metadata": {
            "tags": []
          },
          "execution_count": 10
        }
      ]
    },
    {
      "cell_type": "markdown",
      "metadata": {
        "id": "7rYU3xBofqnm"
      },
      "source": [
        "Como se observa anteriormente, en las demás variables no se encuentran datos nulos, quedando el dataset con 11 variables."
      ]
    },
    {
      "cell_type": "markdown",
      "metadata": {
        "id": "vyFExpYNNrHE"
      },
      "source": [
        "## Analisis Univariable"
      ]
    },
    {
      "cell_type": "markdown",
      "metadata": {
        "id": "OXjbwmbQQhN7"
      },
      "source": [
        "### Variables Numericas"
      ]
    },
    {
      "cell_type": "code",
      "metadata": {
        "id": "YgBbcE8mk8OX",
        "colab": {
          "base_uri": "https://localhost:8080/",
          "height": 266
        },
        "outputId": "3484cc1c-e79a-437d-ab26-f266fce8c8ea"
      },
      "source": [
        "#Descripcion variales numericas\n",
        "creditcard.describe().transpose()"
      ],
      "execution_count": 11,
      "outputs": [
        {
          "output_type": "execute_result",
          "data": {
            "text/html": [
              "<div>\n",
              "<style scoped>\n",
              "    .dataframe tbody tr th:only-of-type {\n",
              "        vertical-align: middle;\n",
              "    }\n",
              "\n",
              "    .dataframe tbody tr th {\n",
              "        vertical-align: top;\n",
              "    }\n",
              "\n",
              "    .dataframe thead th {\n",
              "        text-align: right;\n",
              "    }\n",
              "</style>\n",
              "<table border=\"1\" class=\"dataframe\">\n",
              "  <thead>\n",
              "    <tr style=\"text-align: right;\">\n",
              "      <th></th>\n",
              "      <th>count</th>\n",
              "      <th>mean</th>\n",
              "      <th>std</th>\n",
              "      <th>min</th>\n",
              "      <th>25%</th>\n",
              "      <th>50%</th>\n",
              "      <th>75%</th>\n",
              "      <th>max</th>\n",
              "    </tr>\n",
              "  </thead>\n",
              "  <tbody>\n",
              "    <tr>\n",
              "      <th>Merchant_id</th>\n",
              "      <td>3075.0</td>\n",
              "      <td>5.026634e+09</td>\n",
              "      <td>9.870778e+08</td>\n",
              "      <td>3.160041e+09</td>\n",
              "      <td>4.170814e+09</td>\n",
              "      <td>5.025578e+09</td>\n",
              "      <td>5.889625e+09</td>\n",
              "      <td>6.665906e+09</td>\n",
              "    </tr>\n",
              "    <tr>\n",
              "      <th>Average Amount/transaction/day</th>\n",
              "      <td>3075.0</td>\n",
              "      <td>5.150266e+02</td>\n",
              "      <td>2.919070e+02</td>\n",
              "      <td>4.011527e+00</td>\n",
              "      <td>2.697880e+02</td>\n",
              "      <td>5.025496e+02</td>\n",
              "      <td>7.652728e+02</td>\n",
              "      <td>2.000000e+03</td>\n",
              "    </tr>\n",
              "    <tr>\n",
              "      <th>Transaction_amount</th>\n",
              "      <td>3075.0</td>\n",
              "      <td>9.876399e+03</td>\n",
              "      <td>1.013533e+04</td>\n",
              "      <td>0.000000e+00</td>\n",
              "      <td>2.408781e+03</td>\n",
              "      <td>6.698892e+03</td>\n",
              "      <td>1.442257e+04</td>\n",
              "      <td>1.080000e+05</td>\n",
              "    </tr>\n",
              "    <tr>\n",
              "      <th>Total Number of declines/day</th>\n",
              "      <td>3075.0</td>\n",
              "      <td>9.573984e-01</td>\n",
              "      <td>2.192391e+00</td>\n",
              "      <td>0.000000e+00</td>\n",
              "      <td>0.000000e+00</td>\n",
              "      <td>0.000000e+00</td>\n",
              "      <td>0.000000e+00</td>\n",
              "      <td>2.000000e+01</td>\n",
              "    </tr>\n",
              "    <tr>\n",
              "      <th>Daily_chargeback_avg_amt</th>\n",
              "      <td>3075.0</td>\n",
              "      <td>5.573756e+01</td>\n",
              "      <td>2.066348e+02</td>\n",
              "      <td>0.000000e+00</td>\n",
              "      <td>0.000000e+00</td>\n",
              "      <td>0.000000e+00</td>\n",
              "      <td>0.000000e+00</td>\n",
              "      <td>9.980000e+02</td>\n",
              "    </tr>\n",
              "    <tr>\n",
              "      <th>6_month_avg_chbk_amt</th>\n",
              "      <td>3075.0</td>\n",
              "      <td>4.002241e+01</td>\n",
              "      <td>1.559688e+02</td>\n",
              "      <td>0.000000e+00</td>\n",
              "      <td>0.000000e+00</td>\n",
              "      <td>0.000000e+00</td>\n",
              "      <td>0.000000e+00</td>\n",
              "      <td>9.980000e+02</td>\n",
              "    </tr>\n",
              "    <tr>\n",
              "      <th>6-month_chbk_freq</th>\n",
              "      <td>3075.0</td>\n",
              "      <td>3.918699e-01</td>\n",
              "      <td>1.548479e+00</td>\n",
              "      <td>0.000000e+00</td>\n",
              "      <td>0.000000e+00</td>\n",
              "      <td>0.000000e+00</td>\n",
              "      <td>0.000000e+00</td>\n",
              "      <td>9.000000e+00</td>\n",
              "    </tr>\n",
              "  </tbody>\n",
              "</table>\n",
              "</div>"
            ],
            "text/plain": [
              "                                 count  ...           max\n",
              "Merchant_id                     3075.0  ...  6.665906e+09\n",
              "Average Amount/transaction/day  3075.0  ...  2.000000e+03\n",
              "Transaction_amount              3075.0  ...  1.080000e+05\n",
              "Total Number of declines/day    3075.0  ...  2.000000e+01\n",
              "Daily_chargeback_avg_amt        3075.0  ...  9.980000e+02\n",
              "6_month_avg_chbk_amt            3075.0  ...  9.980000e+02\n",
              "6-month_chbk_freq               3075.0  ...  9.000000e+00\n",
              "\n",
              "[7 rows x 8 columns]"
            ]
          },
          "metadata": {
            "tags": []
          },
          "execution_count": 11
        }
      ]
    },
    {
      "cell_type": "code",
      "metadata": {
        "id": "r7iY5sf4QkBa",
        "colab": {
          "base_uri": "https://localhost:8080/"
        },
        "outputId": "d297ba7e-69e2-4cfe-f17e-69f1197bb6bc"
      },
      "source": [
        "#Varianza\n",
        "creditcard.var()"
      ],
      "execution_count": 12,
      "outputs": [
        {
          "output_type": "execute_result",
          "data": {
            "text/plain": [
              "Merchant_id                       9.743226e+17\n",
              "Average Amount/transaction/day    8.520968e+04\n",
              "Transaction_amount                1.027249e+08\n",
              "Total Number of declines/day      4.806577e+00\n",
              "Daily_chargeback_avg_amt          4.269793e+04\n",
              "6_month_avg_chbk_amt              2.432628e+04\n",
              "6-month_chbk_freq                 2.397787e+00\n",
              "dtype: float64"
            ]
          },
          "metadata": {
            "tags": []
          },
          "execution_count": 12
        }
      ]
    },
    {
      "cell_type": "code",
      "metadata": {
        "id": "Kh9oF7KdRbDw",
        "colab": {
          "base_uri": "https://localhost:8080/"
        },
        "outputId": "71c0570b-904e-4194-c206-62a191dfe2f3"
      },
      "source": [
        "#Sesgo\n",
        "creditcard.skew()"
      ],
      "execution_count": 13,
      "outputs": [
        {
          "output_type": "execute_result",
          "data": {
            "text/plain": [
              "Merchant_id                      -0.015352\n",
              "Average Amount/transaction/day    0.178622\n",
              "Transaction_amount                2.106235\n",
              "Total Number of declines/day      2.694874\n",
              "Daily_chargeback_avg_amt          3.565048\n",
              "6_month_avg_chbk_amt              4.037422\n",
              "6-month_chbk_freq                 4.049305\n",
              "dtype: float64"
            ]
          },
          "metadata": {
            "tags": []
          },
          "execution_count": 13
        }
      ]
    },
    {
      "cell_type": "code",
      "metadata": {
        "id": "W8kUbT9lScU6",
        "colab": {
          "base_uri": "https://localhost:8080/"
        },
        "outputId": "e1dfbf9c-4416-4c44-8415-cef557dc8437"
      },
      "source": [
        "#Curtosis\n",
        "creditcard.kurtosis()"
      ],
      "execution_count": 14,
      "outputs": [
        {
          "output_type": "execute_result",
          "data": {
            "text/plain": [
              "Merchant_id                       -1.202855\n",
              "Average Amount/transaction/day    -0.367184\n",
              "Transaction_amount                 8.486367\n",
              "Total Number of declines/day       8.872378\n",
              "Daily_chargeback_avg_amt          11.112125\n",
              "6_month_avg_chbk_amt              15.675940\n",
              "6-month_chbk_freq                 15.360236\n",
              "dtype: float64"
            ]
          },
          "metadata": {
            "tags": []
          },
          "execution_count": 14
        }
      ]
    },
    {
      "cell_type": "code",
      "metadata": {
        "id": "3RmxLrsTSetm",
        "colab": {
          "base_uri": "https://localhost:8080/",
          "height": 749
        },
        "outputId": "fdc6bf83-ee8b-4242-bd73-33fd73844d8b"
      },
      "source": [
        "creditcard.hist(figsize=(12,12), edgecolor='white', alpha =0.7)\n",
        "plt.figure()"
      ],
      "execution_count": 15,
      "outputs": [
        {
          "output_type": "execute_result",
          "data": {
            "text/plain": [
              "<Figure size 432x288 with 0 Axes>"
            ]
          },
          "metadata": {
            "tags": []
          },
          "execution_count": 15
        },
        {
          "output_type": "display_data",
          "data": {
            "image/png": "[encoded data removed]",
            "text/plain": [
              "<Figure size 864x864 with 9 Axes>"
            ]
          },
          "metadata": {
            "tags": [],
            "needs_background": "light"
          }
        },
        {
          "output_type": "display_data",
          "data": {
            "text/plain": [
              "<Figure size 432x288 with 0 Axes>"
            ]
          },
          "metadata": {
            "tags": []
          }
        }
      ]
    },
    {
      "cell_type": "markdown",
      "metadata": {
        "id": "PdQDFf2YUrcK"
      },
      "source": [
        "Se puede observar en las anteriores gráficas que la mayoría de las transacciones son de valores menores a 1000 por día, el numero de declinados por día  yl el cotragargo es en su gran mayoría 0, y mensualmente la cantidad de contracargo tambien es usualmente 0."
      ]
    },
    {
      "cell_type": "markdown",
      "metadata": {
        "id": "cwVebd5HXjeG"
      },
      "source": [
        "### Variables Categoricas"
      ]
    },
    {
      "cell_type": "code",
      "metadata": {
        "id": "TWyrMaG4Ugye"
      },
      "source": [
        "creditcardCategoricas = creditcard.select_dtypes(include=['object'])"
      ],
      "execution_count": 16,
      "outputs": []
    },
    {
      "cell_type": "code",
      "metadata": {
        "id": "QvuKgnujXvdF",
        "colab": {
          "base_uri": "https://localhost:8080/"
        },
        "outputId": "d154ba65-31a4-45b2-feb4-93e058afedd5"
      },
      "source": [
        "#Datos en variables categoricas\n",
        "for col in creditcardCategoricas:\n",
        "  print(f\"{col} = {creditcardCategoricas[col].unique()}\")"
      ],
      "execution_count": 17,
      "outputs": [
        {
          "output_type": "stream",
          "text": [
            "Is declined = ['N' 'Y']\n",
            "isForeignTransaction = ['Y' 'N']\n",
            "isHighRiskCountry = ['Y' 'N']\n",
            "isFradulent = ['Y' 'N']\n"
          ],
          "name": "stdout"
        }
      ]
    },
    {
      "cell_type": "code",
      "metadata": {
        "id": "P4uZ0SSsZpEa"
      },
      "source": [
        "#Elementos por categoria\n",
        "columnaCategorica = creditcardCategoricas.value_counts(ascending=False)"
      ],
      "execution_count": 18,
      "outputs": []
    },
    {
      "cell_type": "code",
      "metadata": {
        "id": "OE4UPz7FbU3D",
        "colab": {
          "base_uri": "https://localhost:8080/",
          "height": 386
        },
        "outputId": "1b63db5e-abe7-442d-cc30-fabe099b41a1"
      },
      "source": [
        "fig, ax = plt.subplots(2,2,figsize=(6,6))\n",
        "count = 0;\n",
        "nombrecategorias = list(creditcardCategoricas.columns)\n",
        "for i in range(0,2):\n",
        "  for j in range(0,2):\n",
        "    if count<=4:\n",
        "      a = nombrecategorias[count]\n",
        "      creditcardCategoricas[a].value_counts().plot.bar(ax=ax[i,j]).set_title(a)\n",
        "    count = count+1\n",
        "fig.show()"
      ],
      "execution_count": 19,
      "outputs": [
        {
          "output_type": "display_data",
          "data": {
            "image/png": "[encoded data removed]",
            "text/plain": [
              "<Figure size 432x432 with 4 Axes>"
            ]
          },
          "metadata": {
            "tags": [],
            "needs_background": "light"
          }
        }
      ]
    },
    {
      "cell_type": "markdown",
      "metadata": {
        "id": "Ws4KBZYUnfTA"
      },
      "source": [
        "En las variables categóricas se observa que todas ellas son de tipo binario y se encuentran desbalanceadas. Es de gra interés la variable de fraudulento, pues es la que nos muestra el grupo de interés."
      ]
    },
    {
      "cell_type": "markdown",
      "metadata": {
        "id": "EKm8B_OuwAuP"
      },
      "source": [
        "## Analisis Bivariable"
      ]
    },
    {
      "cell_type": "markdown",
      "metadata": {
        "id": "j_uFzcV95olA"
      },
      "source": [
        "Como lasvariables categóricas son binarias, se puedes cambiar a valor de 1 y 0."
      ]
    },
    {
      "cell_type": "code",
      "metadata": {
        "colab": {
          "base_uri": "https://localhost:8080/",
          "height": 165
        },
        "id": "Oe_ENniG5n4J",
        "outputId": "b9f9d03d-6d1e-429e-eb28-fcb3c8779620"
      },
      "source": [
        "creditcard['Is declined'] = creditcard['Is declined'].map({'Y': 1, 'N': 0})\n",
        "creditcard['isForeignTransaction'] = creditcard['isForeignTransaction'].map({'Y': 1, 'N': 0})\n",
        "creditcard['isHighRiskCountry'] = creditcard['isHighRiskCountry'].map({'Y': 1, 'N': 0})\n",
        "creditcard['isFradulent'] = creditcard['isFradulent'].map({'Y': -1, 'N': 1})\n",
        "creditcard.head(2)"
      ],
      "execution_count": 20,
      "outputs": [
        {
          "output_type": "execute_result",
          "data": {
            "text/html": [
              "<div>\n",
              "<style scoped>\n",
              "    .dataframe tbody tr th:only-of-type {\n",
              "        vertical-align: middle;\n",
              "    }\n",
              "\n",
              "    .dataframe tbody tr th {\n",
              "        vertical-align: top;\n",
              "    }\n",
              "\n",
              "    .dataframe thead th {\n",
              "        text-align: right;\n",
              "    }\n",
              "</style>\n",
              "<table border=\"1\" class=\"dataframe\">\n",
              "  <thead>\n",
              "    <tr style=\"text-align: right;\">\n",
              "      <th></th>\n",
              "      <th>Merchant_id</th>\n",
              "      <th>Average Amount/transaction/day</th>\n",
              "      <th>Transaction_amount</th>\n",
              "      <th>Is declined</th>\n",
              "      <th>Total Number of declines/day</th>\n",
              "      <th>isForeignTransaction</th>\n",
              "      <th>isHighRiskCountry</th>\n",
              "      <th>Daily_chargeback_avg_amt</th>\n",
              "      <th>6_month_avg_chbk_amt</th>\n",
              "      <th>6-month_chbk_freq</th>\n",
              "      <th>isFradulent</th>\n",
              "    </tr>\n",
              "  </thead>\n",
              "  <tbody>\n",
              "    <tr>\n",
              "      <th>0</th>\n",
              "      <td>3160040998</td>\n",
              "      <td>100.0</td>\n",
              "      <td>3000.0</td>\n",
              "      <td>0</td>\n",
              "      <td>5</td>\n",
              "      <td>1</td>\n",
              "      <td>1</td>\n",
              "      <td>0</td>\n",
              "      <td>0.0</td>\n",
              "      <td>0</td>\n",
              "      <td>-1</td>\n",
              "    </tr>\n",
              "    <tr>\n",
              "      <th>1</th>\n",
              "      <td>3160040998</td>\n",
              "      <td>100.0</td>\n",
              "      <td>4300.0</td>\n",
              "      <td>0</td>\n",
              "      <td>5</td>\n",
              "      <td>1</td>\n",
              "      <td>1</td>\n",
              "      <td>0</td>\n",
              "      <td>0.0</td>\n",
              "      <td>0</td>\n",
              "      <td>-1</td>\n",
              "    </tr>\n",
              "  </tbody>\n",
              "</table>\n",
              "</div>"
            ],
            "text/plain": [
              "   Merchant_id  Average Amount/transaction/day  ...  6-month_chbk_freq  isFradulent\n",
              "0   3160040998                           100.0  ...                  0           -1\n",
              "1   3160040998                           100.0  ...                  0           -1\n",
              "\n",
              "[2 rows x 11 columns]"
            ]
          },
          "metadata": {
            "tags": []
          },
          "execution_count": 20
        }
      ]
    },
    {
      "cell_type": "code",
      "metadata": {
        "id": "-0LOk6dnd-Sh",
        "colab": {
          "base_uri": "https://localhost:8080/",
          "height": 973
        },
        "outputId": "c6c63e0c-0b08-4474-f10a-ae4403b17191"
      },
      "source": [
        "correlaciones = creditcard.corr()\n",
        "plt.subplots(figsize=(6,6))\n",
        "display(correlaciones)\n",
        "sns.heatmap(correlaciones,cmap = 'crest');"
      ],
      "execution_count": 21,
      "outputs": [
        {
          "output_type": "display_data",
          "data": {
            "text/html": [
              "<div>\n",
              "<style scoped>\n",
              "    .dataframe tbody tr th:only-of-type {\n",
              "        vertical-align: middle;\n",
              "    }\n",
              "\n",
              "    .dataframe tbody tr th {\n",
              "        vertical-align: top;\n",
              "    }\n",
              "\n",
              "    .dataframe thead th {\n",
              "        text-align: right;\n",
              "    }\n",
              "</style>\n",
              "<table border=\"1\" class=\"dataframe\">\n",
              "  <thead>\n",
              "    <tr style=\"text-align: right;\">\n",
              "      <th></th>\n",
              "      <th>Merchant_id</th>\n",
              "      <th>Average Amount/transaction/day</th>\n",
              "      <th>Transaction_amount</th>\n",
              "      <th>Is declined</th>\n",
              "      <th>Total Number of declines/day</th>\n",
              "      <th>isForeignTransaction</th>\n",
              "      <th>isHighRiskCountry</th>\n",
              "      <th>Daily_chargeback_avg_amt</th>\n",
              "      <th>6_month_avg_chbk_amt</th>\n",
              "      <th>6-month_chbk_freq</th>\n",
              "      <th>isFradulent</th>\n",
              "    </tr>\n",
              "  </thead>\n",
              "  <tbody>\n",
              "    <tr>\n",
              "      <th>Merchant_id</th>\n",
              "      <td>1.000000</td>\n",
              "      <td>0.018223</td>\n",
              "      <td>0.046065</td>\n",
              "      <td>0.159211</td>\n",
              "      <td>-0.016165</td>\n",
              "      <td>0.030289</td>\n",
              "      <td>0.028611</td>\n",
              "      <td>0.088802</td>\n",
              "      <td>0.091621</td>\n",
              "      <td>0.118599</td>\n",
              "      <td>-0.043068</td>\n",
              "    </tr>\n",
              "    <tr>\n",
              "      <th>Average Amount/transaction/day</th>\n",
              "      <td>0.018223</td>\n",
              "      <td>1.000000</td>\n",
              "      <td>0.587111</td>\n",
              "      <td>0.081184</td>\n",
              "      <td>-0.009682</td>\n",
              "      <td>0.047316</td>\n",
              "      <td>0.014604</td>\n",
              "      <td>0.060429</td>\n",
              "      <td>0.060284</td>\n",
              "      <td>0.071849</td>\n",
              "      <td>-0.023504</td>\n",
              "    </tr>\n",
              "    <tr>\n",
              "      <th>Transaction_amount</th>\n",
              "      <td>0.046065</td>\n",
              "      <td>0.587111</td>\n",
              "      <td>1.000000</td>\n",
              "      <td>0.197009</td>\n",
              "      <td>0.259309</td>\n",
              "      <td>0.276764</td>\n",
              "      <td>0.325397</td>\n",
              "      <td>0.252298</td>\n",
              "      <td>0.259663</td>\n",
              "      <td>0.297623</td>\n",
              "      <td>-0.528913</td>\n",
              "    </tr>\n",
              "    <tr>\n",
              "      <th>Is declined</th>\n",
              "      <td>0.159211</td>\n",
              "      <td>0.081184</td>\n",
              "      <td>0.197009</td>\n",
              "      <td>1.000000</td>\n",
              "      <td>0.115961</td>\n",
              "      <td>0.079761</td>\n",
              "      <td>0.127586</td>\n",
              "      <td>0.394083</td>\n",
              "      <td>0.407917</td>\n",
              "      <td>0.499365</td>\n",
              "      <td>-0.271282</td>\n",
              "    </tr>\n",
              "    <tr>\n",
              "      <th>Total Number of declines/day</th>\n",
              "      <td>-0.016165</td>\n",
              "      <td>-0.009682</td>\n",
              "      <td>0.259309</td>\n",
              "      <td>0.115961</td>\n",
              "      <td>1.000000</td>\n",
              "      <td>0.227904</td>\n",
              "      <td>0.292459</td>\n",
              "      <td>0.094834</td>\n",
              "      <td>0.081138</td>\n",
              "      <td>0.085028</td>\n",
              "      <td>-0.531990</td>\n",
              "    </tr>\n",
              "    <tr>\n",
              "      <th>isForeignTransaction</th>\n",
              "      <td>0.030289</td>\n",
              "      <td>0.047316</td>\n",
              "      <td>0.276764</td>\n",
              "      <td>0.079761</td>\n",
              "      <td>0.227904</td>\n",
              "      <td>1.000000</td>\n",
              "      <td>0.489572</td>\n",
              "      <td>0.054798</td>\n",
              "      <td>0.060566</td>\n",
              "      <td>0.077083</td>\n",
              "      <td>-0.478113</td>\n",
              "    </tr>\n",
              "    <tr>\n",
              "      <th>isHighRiskCountry</th>\n",
              "      <td>0.028611</td>\n",
              "      <td>0.014604</td>\n",
              "      <td>0.325397</td>\n",
              "      <td>0.127586</td>\n",
              "      <td>0.292459</td>\n",
              "      <td>0.489572</td>\n",
              "      <td>1.000000</td>\n",
              "      <td>0.074902</td>\n",
              "      <td>0.073167</td>\n",
              "      <td>0.098241</td>\n",
              "      <td>-0.639792</td>\n",
              "    </tr>\n",
              "    <tr>\n",
              "      <th>Daily_chargeback_avg_amt</th>\n",
              "      <td>0.088802</td>\n",
              "      <td>0.060429</td>\n",
              "      <td>0.252298</td>\n",
              "      <td>0.394083</td>\n",
              "      <td>0.094834</td>\n",
              "      <td>0.054798</td>\n",
              "      <td>0.074902</td>\n",
              "      <td>1.000000</td>\n",
              "      <td>0.953663</td>\n",
              "      <td>0.884611</td>\n",
              "      <td>-0.385964</td>\n",
              "    </tr>\n",
              "    <tr>\n",
              "      <th>6_month_avg_chbk_amt</th>\n",
              "      <td>0.091621</td>\n",
              "      <td>0.060284</td>\n",
              "      <td>0.259663</td>\n",
              "      <td>0.407917</td>\n",
              "      <td>0.081138</td>\n",
              "      <td>0.060566</td>\n",
              "      <td>0.073167</td>\n",
              "      <td>0.953663</td>\n",
              "      <td>1.000000</td>\n",
              "      <td>0.851339</td>\n",
              "      <td>-0.375758</td>\n",
              "    </tr>\n",
              "    <tr>\n",
              "      <th>6-month_chbk_freq</th>\n",
              "      <td>0.118599</td>\n",
              "      <td>0.071849</td>\n",
              "      <td>0.297623</td>\n",
              "      <td>0.499365</td>\n",
              "      <td>0.085028</td>\n",
              "      <td>0.077083</td>\n",
              "      <td>0.098241</td>\n",
              "      <td>0.884611</td>\n",
              "      <td>0.851339</td>\n",
              "      <td>1.000000</td>\n",
              "      <td>-0.443824</td>\n",
              "    </tr>\n",
              "    <tr>\n",
              "      <th>isFradulent</th>\n",
              "      <td>-0.043068</td>\n",
              "      <td>-0.023504</td>\n",
              "      <td>-0.528913</td>\n",
              "      <td>-0.271282</td>\n",
              "      <td>-0.531990</td>\n",
              "      <td>-0.478113</td>\n",
              "      <td>-0.639792</td>\n",
              "      <td>-0.385964</td>\n",
              "      <td>-0.375758</td>\n",
              "      <td>-0.443824</td>\n",
              "      <td>1.000000</td>\n",
              "    </tr>\n",
              "  </tbody>\n",
              "</table>\n",
              "</div>"
            ],
            "text/plain": [
              "                                Merchant_id  ...  isFradulent\n",
              "Merchant_id                        1.000000  ...    -0.043068\n",
              "Average Amount/transaction/day     0.018223  ...    -0.023504\n",
              "Transaction_amount                 0.046065  ...    -0.528913\n",
              "Is declined                        0.159211  ...    -0.271282\n",
              "Total Number of declines/day      -0.016165  ...    -0.531990\n",
              "isForeignTransaction               0.030289  ...    -0.478113\n",
              "isHighRiskCountry                  0.028611  ...    -0.639792\n",
              "Daily_chargeback_avg_amt           0.088802  ...    -0.385964\n",
              "6_month_avg_chbk_amt               0.091621  ...    -0.375758\n",
              "6-month_chbk_freq                  0.118599  ...    -0.443824\n",
              "isFradulent                       -0.043068  ...     1.000000\n",
              "\n",
              "[11 rows x 11 columns]"
            ]
          },
          "metadata": {
            "tags": []
          }
        },
        {
          "output_type": "display_data",
          "data": {
            "image/png": "[encoded data removed]",
            "text/plain": [
              "<Figure size 432x432 with 2 Axes>"
            ]
          },
          "metadata": {
            "tags": [],
            "needs_background": "light"
          }
        }
      ]
    },
    {
      "cell_type": "code",
      "metadata": {
        "id": "JKaCzxKfeuAG",
        "colab": {
          "base_uri": "https://localhost:8080/"
        },
        "outputId": "a9dc0631-f0dc-4af0-e23a-21deb90e1fc7"
      },
      "source": [
        "correlacionesabds = abs(correlaciones).mask(np.arange(abs(correlaciones).shape[0]) >= np.arange(abs(correlaciones).shape[1])[:, np.newaxis])\n",
        "correlacionesnumero = correlacionesabds[correlacionesabds >= 0.7]\n",
        "np.stack(correlacionesnumero.notnull().values.nonzero()).T.tolist()"
      ],
      "execution_count": 22,
      "outputs": [
        {
          "output_type": "execute_result",
          "data": {
            "text/plain": [
              "[[8, 7], [9, 7], [9, 8]]"
            ]
          },
          "metadata": {
            "tags": []
          },
          "execution_count": 22
        }
      ]
    },
    {
      "cell_type": "markdown",
      "metadata": {
        "id": "CRrijDDKwR9T"
      },
      "source": [
        "Existe una alta correlacion (mayor a 0.7) entre las siguientes variables:\n",
        "\n",
        "  - Daily chargeback avg amt\n",
        "  - 6 month avg chbk amt\n",
        "  - 6 month avg chbk freq"
      ]
    },
    {
      "cell_type": "markdown",
      "metadata": {
        "id": "aT4iKJ3sZP9v"
      },
      "source": [
        "Debido a que el ID de la persona que realiza la transacción no importa para el desarrollo del problema, se elimina la columna de datos innecesaria."
      ]
    },
    {
      "cell_type": "code",
      "metadata": {
        "id": "tcmLphC2wH66"
      },
      "source": [
        "creditcard.drop(['Merchant_id'],axis=1, inplace=True)"
      ],
      "execution_count": 23,
      "outputs": []
    },
    {
      "cell_type": "markdown",
      "metadata": {
        "id": "1icMUB2f1SVk"
      },
      "source": [
        "Se tiene un total de 10 variables importantes para la generación del modelo."
      ]
    },
    {
      "cell_type": "code",
      "metadata": {
        "id": "-Gds5UHLecoe"
      },
      "source": [
        "Fraudulentos = creditcard['isFradulent']\n",
        "creditcard.drop(['isFradulent'],axis=1, inplace=True)"
      ],
      "execution_count": 24,
      "outputs": []
    },
    {
      "cell_type": "markdown",
      "metadata": {
        "id": "B8M1EI8e9yiz"
      },
      "source": [
        "# DETECCION DE ANOMALIAS DE LOS DATOS (MACHINE LEARNING)"
      ]
    },
    {
      "cell_type": "markdown",
      "metadata": {
        "id": "Z1V-O9hJLcmo"
      },
      "source": [
        "Se realiza la normalización de las variables de 0 a 1"
      ]
    },
    {
      "cell_type": "code",
      "metadata": {
        "id": "Dtyhmk2gL0Ct",
        "colab": {
          "base_uri": "https://localhost:8080/",
          "height": 258
        },
        "outputId": "7a2bf19c-e656-4b06-8411-415b1327535b"
      },
      "source": [
        "scaler = MinMaxScaler()\n",
        "creditcardnorm = scaler.fit_transform(creditcard)\n",
        "creditcardnorm = pd.DataFrame(creditcardnorm)\n",
        "creditcardnorm.columns = creditcard.columns\n",
        "creditcardnorm.head()"
      ],
      "execution_count": 25,
      "outputs": [
        {
          "output_type": "execute_result",
          "data": {
            "text/html": [
              "<div>\n",
              "<style scoped>\n",
              "    .dataframe tbody tr th:only-of-type {\n",
              "        vertical-align: middle;\n",
              "    }\n",
              "\n",
              "    .dataframe tbody tr th {\n",
              "        vertical-align: top;\n",
              "    }\n",
              "\n",
              "    .dataframe thead th {\n",
              "        text-align: right;\n",
              "    }\n",
              "</style>\n",
              "<table border=\"1\" class=\"dataframe\">\n",
              "  <thead>\n",
              "    <tr style=\"text-align: right;\">\n",
              "      <th></th>\n",
              "      <th>Average Amount/transaction/day</th>\n",
              "      <th>Transaction_amount</th>\n",
              "      <th>Is declined</th>\n",
              "      <th>Total Number of declines/day</th>\n",
              "      <th>isForeignTransaction</th>\n",
              "      <th>isHighRiskCountry</th>\n",
              "      <th>Daily_chargeback_avg_amt</th>\n",
              "      <th>6_month_avg_chbk_amt</th>\n",
              "      <th>6-month_chbk_freq</th>\n",
              "    </tr>\n",
              "  </thead>\n",
              "  <tbody>\n",
              "    <tr>\n",
              "      <th>0</th>\n",
              "      <td>0.048091</td>\n",
              "      <td>0.027778</td>\n",
              "      <td>0.0</td>\n",
              "      <td>0.25</td>\n",
              "      <td>1.0</td>\n",
              "      <td>1.0</td>\n",
              "      <td>0.000000</td>\n",
              "      <td>0.000000</td>\n",
              "      <td>0.000000</td>\n",
              "    </tr>\n",
              "    <tr>\n",
              "      <th>1</th>\n",
              "      <td>0.048091</td>\n",
              "      <td>0.039815</td>\n",
              "      <td>0.0</td>\n",
              "      <td>0.25</td>\n",
              "      <td>1.0</td>\n",
              "      <td>1.0</td>\n",
              "      <td>0.000000</td>\n",
              "      <td>0.000000</td>\n",
              "      <td>0.000000</td>\n",
              "    </tr>\n",
              "    <tr>\n",
              "      <th>2</th>\n",
              "      <td>0.090927</td>\n",
              "      <td>0.044657</td>\n",
              "      <td>1.0</td>\n",
              "      <td>0.25</td>\n",
              "      <td>0.0</td>\n",
              "      <td>0.0</td>\n",
              "      <td>0.000000</td>\n",
              "      <td>0.000000</td>\n",
              "      <td>0.000000</td>\n",
              "    </tr>\n",
              "    <tr>\n",
              "      <th>3</th>\n",
              "      <td>0.090927</td>\n",
              "      <td>0.046375</td>\n",
              "      <td>1.0</td>\n",
              "      <td>0.40</td>\n",
              "      <td>0.0</td>\n",
              "      <td>0.0</td>\n",
              "      <td>0.000000</td>\n",
              "      <td>0.000000</td>\n",
              "      <td>0.000000</td>\n",
              "    </tr>\n",
              "    <tr>\n",
              "      <th>4</th>\n",
              "      <td>0.248493</td>\n",
              "      <td>0.240741</td>\n",
              "      <td>0.0</td>\n",
              "      <td>0.00</td>\n",
              "      <td>1.0</td>\n",
              "      <td>1.0</td>\n",
              "      <td>0.801603</td>\n",
              "      <td>0.678557</td>\n",
              "      <td>0.666667</td>\n",
              "    </tr>\n",
              "  </tbody>\n",
              "</table>\n",
              "</div>"
            ],
            "text/plain": [
              "   Average Amount/transaction/day  ...  6-month_chbk_freq\n",
              "0                        0.048091  ...           0.000000\n",
              "1                        0.048091  ...           0.000000\n",
              "2                        0.090927  ...           0.000000\n",
              "3                        0.090927  ...           0.000000\n",
              "4                        0.248493  ...           0.666667\n",
              "\n",
              "[5 rows x 9 columns]"
            ]
          },
          "metadata": {
            "tags": []
          },
          "execution_count": 25
        }
      ]
    },
    {
      "cell_type": "markdown",
      "metadata": {
        "id": "BBBkGUAwCv0-"
      },
      "source": [
        "## K - means"
      ]
    },
    {
      "cell_type": "code",
      "metadata": {
        "id": "VB3wzPJmOAVI"
      },
      "source": [
        "kmeans2 = KMeans(n_clusters=2, random_state=0).fit(creditcard)\n",
        "kmeans3 = KMeans(n_clusters=2, random_state=0).fit(creditcard)\n",
        "kmeans2norm = KMeans(n_clusters=2, random_state=0).fit(creditcardnorm)\n",
        "kmeans3norm = KMeans(n_clusters=2, random_state=0).fit(creditcardnorm)"
      ],
      "execution_count": 26,
      "outputs": []
    },
    {
      "cell_type": "code",
      "metadata": {
        "id": "cOvffg0NVXUi"
      },
      "source": [
        "kmeans2.cluster_centers_\n",
        "y_kmeans2 = kmeans2.predict(creditcard)\n",
        "y_kmeans3 = kmeans3.predict(creditcard)\n",
        "y_kmeans2norm = kmeans2norm.predict(creditcardnorm)\n",
        "y_kmeans3norm = kmeans3norm.predict(creditcardnorm)"
      ],
      "execution_count": 27,
      "outputs": []
    },
    {
      "cell_type": "code",
      "metadata": {
        "colab": {
          "base_uri": "https://localhost:8080/"
        },
        "id": "UWf9WiCYVjYK",
        "outputId": "aaec679a-e1d3-4083-e93b-4b85e21a3a2b"
      },
      "source": [
        "#Parametros para K-means\n",
        "range_n_clusters = list (range(2,10))\n",
        "print (\"Number of clusters from 2 to 9: \\n\", range_n_clusters)\n",
        "\n",
        "for n_clusters in range_n_clusters:\n",
        "    clusterer = KMeans (n_clusters=n_clusters).fit(creditcardnorm)\n",
        "    preds = clusterer.predict(creditcardnorm)\n",
        "    centers = clusterer.cluster_centers_\n",
        "\n",
        "    score = silhouette_score (creditcardnorm, preds, metric='euclidean')\n",
        "    print (\"For n_clusters = {}, silhouette score is {})\".format(n_clusters, score))\n"
      ],
      "execution_count": 28,
      "outputs": [
        {
          "output_type": "stream",
          "text": [
            "Number of clusters from 2 to 9: \n",
            " [2, 3, 4, 5, 6, 7, 8, 9]\n",
            "For n_clusters = 2, silhouette score is 0.6590264196018376)\n",
            "For n_clusters = 3, silhouette score is 0.7003400863741616)\n",
            "For n_clusters = 4, silhouette score is 0.7309692114159188)\n",
            "For n_clusters = 5, silhouette score is 0.7419235688222274)\n",
            "For n_clusters = 6, silhouette score is 0.5198209925152866)\n",
            "For n_clusters = 7, silhouette score is 0.5221159111333219)\n",
            "For n_clusters = 8, silhouette score is 0.526904790060962)\n",
            "For n_clusters = 9, silhouette score is 0.5204921810348736)\n"
          ],
          "name": "stdout"
        }
      ]
    },
    {
      "cell_type": "code",
      "metadata": {
        "colab": {
          "base_uri": "https://localhost:8080/",
          "height": 265
        },
        "id": "Qw-jmNsKl1B1",
        "outputId": "a805b69f-e888-43e5-f512-651eb038131a"
      },
      "source": [
        "_ = SilhouetteVisualizer(KMeans(n_clusters=2)).fit(creditcardnorm)"
      ],
      "execution_count": 29,
      "outputs": [
        {
          "output_type": "display_data",
          "data": {
            "image/png": "[encoded data removed]",
            "text/plain": [
              "<Figure size 432x288 with 1 Axes>"
            ]
          },
          "metadata": {
            "tags": [],
            "needs_background": "light"
          }
        }
      ]
    },
    {
      "cell_type": "code",
      "metadata": {
        "colab": {
          "base_uri": "https://localhost:8080/",
          "height": 265
        },
        "id": "XZOk4IC9msrK",
        "outputId": "0ff7df41-cc75-4d95-d1be-560960dde516"
      },
      "source": [
        "_ = SilhouetteVisualizer(KMeans(n_clusters=4)).fit(creditcardnorm)"
      ],
      "execution_count": 30,
      "outputs": [
        {
          "output_type": "display_data",
          "data": {
            "image/png": "[encoded data removed]",
            "text/plain": [
              "<Figure size 432x288 with 1 Axes>"
            ]
          },
          "metadata": {
            "tags": [],
            "needs_background": "light"
          }
        }
      ]
    },
    {
      "cell_type": "code",
      "metadata": {
        "colab": {
          "base_uri": "https://localhost:8080/",
          "height": 265
        },
        "id": "o3ZpH0YYnT1Y",
        "outputId": "a5ba907d-54cb-4ce1-e7d4-e1431a4c0f74"
      },
      "source": [
        "_ = SilhouetteVisualizer(KMeans(n_clusters=5)).fit(creditcardnorm)"
      ],
      "execution_count": 31,
      "outputs": [
        {
          "output_type": "display_data",
          "data": {
            "image/png": "[encoded data removed]",
            "text/plain": [
              "<Figure size 432x288 with 1 Axes>"
            ]
          },
          "metadata": {
            "tags": [],
            "needs_background": "light"
          }
        }
      ]
    },
    {
      "cell_type": "markdown",
      "metadata": {
        "id": "Z0M03n1Syjou"
      },
      "source": [
        "Una de las separaciones de los datos tomando en cuenta dos variables se presenta a continuación:"
      ]
    },
    {
      "cell_type": "code",
      "metadata": {
        "colab": {
          "base_uri": "https://localhost:8080/",
          "height": 282
        },
        "id": "vLYVuOi4XQMU",
        "outputId": "9734987b-ad71-4cc7-c2d9-65cd41e7e1f3"
      },
      "source": [
        "plt.scatter(creditcard.iloc[:, 1], creditcardnorm.iloc[:, 8], c=y_kmeans2, s=50, cmap='viridis')"
      ],
      "execution_count": 32,
      "outputs": [
        {
          "output_type": "execute_result",
          "data": {
            "text/plain": [
              "<matplotlib.collections.PathCollection at 0x7fd6c3eb21d0>"
            ]
          },
          "metadata": {
            "tags": []
          },
          "execution_count": 32
        },
        {
          "output_type": "display_data",
          "data": {
            "image/png": "[encoded data removed]",
            "text/plain": [
              "<Figure size 432x288 with 1 Axes>"
            ]
          },
          "metadata": {
            "tags": [],
            "needs_background": "light"
          }
        }
      ]
    },
    {
      "cell_type": "markdown",
      "metadata": {
        "id": "9KoNnU4SOBgj"
      },
      "source": [
        "# Anomalias"
      ]
    },
    {
      "cell_type": "markdown",
      "metadata": {
        "id": "DKSZQDKIe12t"
      },
      "source": [
        "### Isolation Forest\n"
      ]
    },
    {
      "cell_type": "code",
      "metadata": {
        "colab": {
          "base_uri": "https://localhost:8080/"
        },
        "id": "rIjmbNaWdeLP",
        "outputId": "f63b6a0f-8e5c-4571-af95-a8cfa03c5e6b"
      },
      "source": [
        "modelo_isof = IsolationForest(\n",
        "                n_estimators  = 1000,\n",
        "                max_samples   ='auto',\n",
        "                contamination = 0.15,\n",
        "                n_jobs        = -1,\n",
        "                random_state  = 123,\n",
        "            )\n",
        "\n",
        "modelo_isof.fit(creditcard)"
      ],
      "execution_count": 33,
      "outputs": [
        {
          "output_type": "execute_result",
          "data": {
            "text/plain": [
              "IsolationForest(behaviour='deprecated', bootstrap=False, contamination=0.15,\n",
              "                max_features=1.0, max_samples='auto', n_estimators=1000,\n",
              "                n_jobs=-1, random_state=123, verbose=0, warm_start=False)"
            ]
          },
          "metadata": {
            "tags": []
          },
          "execution_count": 33
        }
      ]
    },
    {
      "cell_type": "code",
      "metadata": {
        "colab": {
          "base_uri": "https://localhost:8080/"
        },
        "id": "K1bqEkvFfgq2",
        "outputId": "db15c4c0-491a-4664-f87c-2e0c347b3f61"
      },
      "source": [
        "#Prediccion\n",
        "clasificacion_IsForest = modelo_isof.predict(creditcard)\n",
        "clasificacion_IsForest\n",
        "# -1 para anomalia y 1 para normal"
      ],
      "execution_count": 34,
      "outputs": [
        {
          "output_type": "execute_result",
          "data": {
            "text/plain": [
              "array([-1, -1, -1, ..., -1, -1, -1])"
            ]
          },
          "metadata": {
            "tags": []
          },
          "execution_count": 34
        }
      ]
    },
    {
      "cell_type": "code",
      "metadata": {
        "colab": {
          "base_uri": "https://localhost:8080/"
        },
        "id": "FJzzldgHX0dM",
        "outputId": "9fe97281-81bd-4004-9ea4-4a37a7484e60"
      },
      "source": [
        "#Comparación\n",
        "CompIF = np.multiply(clasificacion_IsForest, Fraudulentos)\n",
        "CompIF.value_counts()"
      ],
      "execution_count": 35,
      "outputs": [
        {
          "output_type": "execute_result",
          "data": {
            "text/plain": [
              " 1    2933\n",
              "-1     142\n",
              "Name: isFradulent, dtype: int64"
            ]
          },
          "metadata": {
            "tags": []
          },
          "execution_count": 35
        }
      ]
    },
    {
      "cell_type": "code",
      "metadata": {
        "colab": {
          "base_uri": "https://localhost:8080/"
        },
        "id": "a3Url8QrqPba",
        "outputId": "5bb353d6-ec07-44ea-94cd-3ef205b815f6"
      },
      "source": [
        "target_names = [\"Fraude\", \"No fraude\"]\n",
        "print(classification_report(Fraudulentos, clasificacion_IsForest, target_names=target_names))"
      ],
      "execution_count": 36,
      "outputs": [
        {
          "output_type": "stream",
          "text": [
            "              precision    recall  f1-score   support\n",
            "\n",
            "      Fraude       0.83      0.86      0.84       448\n",
            "   No fraude       0.98      0.97      0.97      2627\n",
            "\n",
            "    accuracy                           0.95      3075\n",
            "   macro avg       0.90      0.91      0.91      3075\n",
            "weighted avg       0.95      0.95      0.95      3075\n",
            "\n"
          ],
          "name": "stdout"
        }
      ]
    },
    {
      "cell_type": "code",
      "metadata": {
        "colab": {
          "base_uri": "https://localhost:8080/"
        },
        "id": "lEuk8PxKr4Ho",
        "outputId": "1175e556-844a-47f9-e1aa-38753d878c9c"
      },
      "source": [
        "print(confusion_matrix(Fraudulentos, clasificacion_IsForest, labels=[1, -1]))"
      ],
      "execution_count": 37,
      "outputs": [
        {
          "output_type": "stream",
          "text": [
            "[[2549   78]\n",
            " [  64  384]]\n"
          ],
          "name": "stdout"
        }
      ]
    },
    {
      "cell_type": "markdown",
      "metadata": {
        "id": "ZTJRn6y_e40u"
      },
      "source": [
        "# LocalOutlierFactor"
      ]
    },
    {
      "cell_type": "code",
      "metadata": {
        "colab": {
          "base_uri": "https://localhost:8080/"
        },
        "id": "M8zPioz0e5aO",
        "outputId": "b5e145d6-1aac-4603-8835-9510f4e77c21"
      },
      "source": [
        "clf = LocalOutlierFactor(n_neighbors=20, contamination=0.15)\n",
        "clasificacion_LOF = clf.fit_predict(creditcard)\n",
        "clasificacion_LOF\n",
        "# 1 inlier, -1 outlier"
      ],
      "execution_count": 38,
      "outputs": [
        {
          "output_type": "execute_result",
          "data": {
            "text/plain": [
              "array([ 1,  1,  1, ..., -1, -1,  1])"
            ]
          },
          "metadata": {
            "tags": []
          },
          "execution_count": 38
        }
      ]
    },
    {
      "cell_type": "code",
      "metadata": {
        "colab": {
          "base_uri": "https://localhost:8080/"
        },
        "id": "65APwhuadQkY",
        "outputId": "7f5cd3af-4122-449d-9479-ee1b2dfd40ac"
      },
      "source": [
        "#Comparación\n",
        "CompLOF = np.multiply(clasificacion_LOF, Fraudulentos)\n",
        "CompLOF.value_counts()"
      ],
      "execution_count": 39,
      "outputs": [
        {
          "output_type": "execute_result",
          "data": {
            "text/plain": [
              " 1    2551\n",
              "-1     524\n",
              "Name: isFradulent, dtype: int64"
            ]
          },
          "metadata": {
            "tags": []
          },
          "execution_count": 39
        }
      ]
    },
    {
      "cell_type": "code",
      "metadata": {
        "colab": {
          "base_uri": "https://localhost:8080/"
        },
        "id": "mC3COhQwCt-6",
        "outputId": "1e805114-cda8-4f6f-960a-f8fe1c56a4c3"
      },
      "source": [
        "target_names = [\"Fraude\", \"No fraude\"]\n",
        "print(classification_report(Fraudulentos, clasificacion_LOF, target_names=target_names))"
      ],
      "execution_count": 40,
      "outputs": [
        {
          "output_type": "stream",
          "text": [
            "              precision    recall  f1-score   support\n",
            "\n",
            "      Fraude       0.42      0.43      0.42       448\n",
            "   No fraude       0.90      0.90      0.90      2627\n",
            "\n",
            "    accuracy                           0.83      3075\n",
            "   macro avg       0.66      0.66      0.66      3075\n",
            "weighted avg       0.83      0.83      0.83      3075\n",
            "\n"
          ],
          "name": "stdout"
        }
      ]
    },
    {
      "cell_type": "code",
      "metadata": {
        "colab": {
          "base_uri": "https://localhost:8080/"
        },
        "id": "PX58ykv5Cv-f",
        "outputId": "7a432bff-c0af-492b-f735-7a5906b2ae2e"
      },
      "source": [
        "print(confusion_matrix(Fraudulentos, clasificacion_LOF, labels=[1, -1]))"
      ],
      "execution_count": 41,
      "outputs": [
        {
          "output_type": "stream",
          "text": [
            "[[2358  269]\n",
            " [ 255  193]]\n"
          ],
          "name": "stdout"
        }
      ]
    },
    {
      "cell_type": "markdown",
      "metadata": {
        "id": "PnWKRCjnfEOq"
      },
      "source": [
        "# EllipticEnvelope"
      ]
    },
    {
      "cell_type": "code",
      "metadata": {
        "colab": {
          "base_uri": "https://localhost:8080/"
        },
        "id": "UYWXnnQwe6KV",
        "outputId": "277b4f00-ed43-483f-de9b-e7a533d26ec8"
      },
      "source": [
        "clf = EllipticEnvelope(contamination=0.15)\n",
        "clf.fit(creditcard)\n",
        "clasificacion_EE = clf.predict(creditcard)\n",
        "clasificacion_EE"
      ],
      "execution_count": 42,
      "outputs": [
        {
          "output_type": "execute_result",
          "data": {
            "text/plain": [
              "array([ 1,  1, -1, ..., -1, -1, -1])"
            ]
          },
          "metadata": {
            "tags": []
          },
          "execution_count": 42
        }
      ]
    },
    {
      "cell_type": "code",
      "metadata": {
        "colab": {
          "base_uri": "https://localhost:8080/"
        },
        "id": "poYuJi5ggb2e",
        "outputId": "c73a8d89-1ce3-463e-b97f-65cf44aac1da"
      },
      "source": [
        "#Comparación\n",
        "CompEE = np.multiply(clasificacion_EE, Fraudulentos)\n",
        "CompEE.value_counts()"
      ],
      "execution_count": 43,
      "outputs": [
        {
          "output_type": "execute_result",
          "data": {
            "text/plain": [
              " 1    2853\n",
              "-1     222\n",
              "Name: isFradulent, dtype: int64"
            ]
          },
          "metadata": {
            "tags": []
          },
          "execution_count": 43
        }
      ]
    },
    {
      "cell_type": "code",
      "metadata": {
        "colab": {
          "base_uri": "https://localhost:8080/"
        },
        "id": "Wdt5fF2BC5sj",
        "outputId": "32171f54-7973-474d-e36a-3f6b55bf7289"
      },
      "source": [
        "target_names = [\"Fraude\", \"No fraude\"]\n",
        "print(classification_report(Fraudulentos, clasificacion_EE, target_names=target_names))"
      ],
      "execution_count": 44,
      "outputs": [
        {
          "output_type": "stream",
          "text": [
            "              precision    recall  f1-score   support\n",
            "\n",
            "      Fraude       0.74      0.77      0.76       448\n",
            "   No fraude       0.96      0.96      0.96      2627\n",
            "\n",
            "    accuracy                           0.93      3075\n",
            "   macro avg       0.85      0.86      0.86      3075\n",
            "weighted avg       0.93      0.93      0.93      3075\n",
            "\n"
          ],
          "name": "stdout"
        }
      ]
    },
    {
      "cell_type": "code",
      "metadata": {
        "colab": {
          "base_uri": "https://localhost:8080/"
        },
        "id": "2dFeTxuuC_1k",
        "outputId": "e3a31b83-14bb-4527-b798-9557fab4f95b"
      },
      "source": [
        "print(confusion_matrix(Fraudulentos, clasificacion_EE, labels=[1, -1]))"
      ],
      "execution_count": 45,
      "outputs": [
        {
          "output_type": "stream",
          "text": [
            "[[2509  118]\n",
            " [ 104  344]]\n"
          ],
          "name": "stdout"
        }
      ]
    },
    {
      "cell_type": "markdown",
      "metadata": {
        "id": "ocxSN5LQweTw"
      },
      "source": [
        "Se tiene por tanto en los tres métodos de detección de outliers las siguientes clasificaciones correctas (precisión) teniendo en cuenta que la salida correcta está dada por la columna \"Is Fraudulent\", la cual debería corresponder con la agrupación con etiqueta (-1) que hace referencia a estos outliers o transacciones fraudulentas. \n",
        "\n",
        "La comparación se realiza tomando las clasificadas como outliers y que si son fraudulentas, y las clasificadas como normales y que efectivamente no son fraudulentas como bien clasificadas de manera que se tiene:"
      ]
    },
    {
      "cell_type": "code",
      "metadata": {
        "colab": {
          "base_uri": "https://localhost:8080/"
        },
        "id": "-K5l8MxtweCg",
        "outputId": "649c2121-0e6f-4dc4-c687-28e128e2f1bf"
      },
      "source": [
        "print(\"Clasificadas correctamente por Isolated Forest: \", 2551/3075)\n",
        "print(\"Clasificadas correctamente por LocalOutlierFactor: \", 2551/3075)\n",
        "print(\"Clasificadas correctamente por EllipticEnvelope: \", 2557/3075)\n"
      ],
      "execution_count": 46,
      "outputs": [
        {
          "output_type": "stream",
          "text": [
            "Clasificadas correctamente por Isolated Forest:  0.8295934959349593\n",
            "Clasificadas correctamente por LocalOutlierFactor:  0.8295934959349593\n",
            "Clasificadas correctamente por EllipticEnvelope:  0.8315447154471545\n"
          ],
          "name": "stdout"
        }
      ]
    },
    {
      "cell_type": "markdown",
      "metadata": {
        "id": "bSq9niiqYnQ7"
      },
      "source": [
        "# Conclusiones\n"
      ]
    },
    {
      "cell_type": "markdown",
      "metadata": {
        "id": "puiRp2kOx267"
      },
      "source": [
        "Se concluye finalmente que el problema de identificación de transacciones fraudulentas puede modelarse como un problema de detección de datos anómalos.\n",
        "\n",
        "Adicionalmente para este problema el mejor rendimiento con respecto a la exactitud corresponde al algoritmo de Elliptic envelope, LocalOutlierFactor, y finalmente por Isolated Forest.  \n",
        "\n",
        "Ahora, si se tiene en cuenta la matriz de confusión (que se debería de tener en cuenta por ser un dataset desbalanceado) podemos ver el orden sería Elliptic envelope, Isolated Forest, finalmente por LocalOutlierFactor."
      ]
    },
    {
      "cell_type": "code",
      "metadata": {
        "id": "vVLojUiNFRTK"
      },
      "source": [
        ""
      ],
      "execution_count": 46,
      "outputs": []
    }
  ]
}